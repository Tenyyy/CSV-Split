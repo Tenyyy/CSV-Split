{
 "cells": [
  {
   "cell_type": "code",
   "execution_count": null,
   "id": "25b6da12",
   "metadata": {},
   "outputs": [],
   "source": [
    "import pandas as pd\n",
    "\n",
    "def split_csv_to_excel(csv_file_path, rows_per_excel, output_directory=\"output_excel_files\"):\n",
    "    \"\"\"\n",
    "    Splits a large CSV file into multiple Excel files, each with a specified number of rows,\n",
    "    and includes the header in every output file.\n",
    "\n",
    "    Args:\n",
    "        csv_file_path (str): The path to the input CSV file.\n",
    "        rows_per_excel (int): The maximum number of data rows (excluding header) per Excel file.\n",
    "        output_directory (str): The directory to save the output Excel files.\n",
    "    \"\"\"\n",
    "    try:\n",
    "        # Create output directory if it doesn't exist\n",
    "        import os\n",
    "        if not os.path.exists(output_directory):\n",
    "            os.makedirs(output_directory)\n",
    "\n",
    "        # Read the CSV file\n",
    "        df = pd.read_csv(csv_file_path)\n",
    "\n",
    "        # Calculate the number of chunks\n",
    "        num_chunks = (len(df) + rows_per_excel - 1) // rows_per_excel\n",
    "\n",
    "        for i in range(num_chunks):\n",
    "            start_row = i * rows_per_excel\n",
    "            end_row = min((i + 1) * rows_per_excel, len(df))\n",
    "            chunk_df = df.iloc[start_row:end_row]\n",
    "\n",
    "            output_excel_path = os.path.join(output_directory, f\"part_{i+1}.xlsx\")\n",
    "            chunk_df.to_excel(output_excel_path, index=False) # index=False prevents writing DataFrame index as a column\n",
    "            print(f\"Saved {output_excel_path}\")\n",
    "\n",
    "    except FileNotFoundError:\n",
    "        print(f\"Error: CSV file not found at {csv_file_path}\")\n",
    "    except Exception as e:\n",
    "        print(f\"An error occurred: {e}\")\n",
    "\n",
    "# Example usage:\n",
    "# split_csv_to_excel(\"path to csv\", rows , \"output directory\")"
   ]
  },
  {
   "cell_type": "code",
   "execution_count": null,
   "id": "22ee585b",
   "metadata": {},
   "outputs": [],
   "source": [
    "#split_csv_to_excel(\"path to csv\", rows , \"output directory\")"
   ]
  }
 ],
 "metadata": {
  "kernelspec": {
   "display_name": "base",
   "language": "python",
   "name": "python3"
  },
  "language_info": {
   "codemirror_mode": {
    "name": "ipython",
    "version": 3
   },
   "file_extension": ".py",
   "mimetype": "text/x-python",
   "name": "python",
   "nbconvert_exporter": "python",
   "pygments_lexer": "ipython3",
   "version": "3.13.5"
  }
 },
 "nbformat": 4,
 "nbformat_minor": 5
}
